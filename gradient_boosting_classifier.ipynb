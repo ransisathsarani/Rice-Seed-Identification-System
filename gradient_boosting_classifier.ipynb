{
  "nbformat": 4,
  "nbformat_minor": 0,
  "metadata": {
    "colab": {
      "provenance": [],
      "authorship_tag": "ABX9TyNJu9uHYPBAlzX3AKUF53ep",
      "include_colab_link": true
    },
    "kernelspec": {
      "name": "python3",
      "display_name": "Python 3"
    },
    "language_info": {
      "name": "python"
    }
  },
  "cells": [
    {
      "cell_type": "markdown",
      "metadata": {
        "id": "view-in-github",
        "colab_type": "text"
      },
      "source": [
        "<a href=\"https://colab.research.google.com/github/sathsaranir1996/Rice-Seed-Identification-System/blob/main/gradient_boosting_classifier.ipynb\" target=\"_parent\"><img src=\"https://colab.research.google.com/assets/colab-badge.svg\" alt=\"Open In Colab\"/></a>"
      ]
    },
    {
      "cell_type": "markdown",
      "source": [
        "**Machine Learning - Gradient Boosting Classifier**"
      ],
      "metadata": {
        "id": "HqEIM0JYFXP8"
      }
    },
    {
      "cell_type": "code",
      "execution_count": null,
      "metadata": {
        "id": "wt-shKW2FPFO",
        "colab": {
          "base_uri": "https://localhost:8080/"
        },
        "outputId": "01dc08d7-b866-4aa6-c4cc-62fc32e511e0"
      },
      "outputs": [
        {
          "output_type": "stream",
          "name": "stdout",
          "text": [
            "length                float64\n",
            "width                 float64\n",
            "area                  float64\n",
            "perimeter             float64\n",
            "rgb_color              object\n",
            "hex_code               object\n",
            "numeric_hex_code        int64\n",
            "hue                   float64\n",
            "saturation            float64\n",
            "value                 float64\n",
            "shape                  object\n",
            "number_of_vertices      int64\n",
            "class                  object\n",
            "dtype: object \n",
            "\n",
            "Accuracy: 95.65661727133367 %\n"
          ]
        }
      ],
      "source": [
        "# Gradient boosting classifier\n",
        "\n",
        "import pandas as pd\n",
        "from sklearn.ensemble import GradientBoostingClassifier\n",
        "from sklearn.impute import SimpleImputer\n",
        "from sklearn.metrics import accuracy_score\n",
        "from sklearn.model_selection import train_test_split\n",
        "\n",
        "# Load the CSV file\n",
        "data = pd.read_csv('/content/drive/MyDrive/training_data/seed_data_rathel.csv')\n",
        "\n",
        "# Check data types of each column\n",
        "print(data.dtypes, '\\n')\n",
        "\n",
        "# Replace 0 values with the mean value of the feature\n",
        "imputer = SimpleImputer(missing_values=0, strategy='mean')\n",
        "data[['length', 'width', 'area', 'perimeter', 'numeric_hex_code', 'hue', 'saturation', 'value', 'number_of_vertices']] = imputer.fit_transform(data[['length', 'width', 'area', 'perimeter', 'numeric_hex_code', 'hue', 'saturation', 'value', 'number_of_vertices']])\n",
        "\n",
        "# Split the data into features (X) and target (y)\n",
        "X = data[['length', 'width', 'area', 'perimeter', 'numeric_hex_code', 'hue', 'saturation', 'value', 'number_of_vertices']]\n",
        "y = data['class']\n",
        "\n",
        "# Split the data into training and testing sets\n",
        "X_train, X_test, y_train, y_test = train_test_split(X, y, test_size=0.2, random_state=42)\n",
        "\n",
        "# Initialize a Gradient Boosting classifier\n",
        "gbc = GradientBoostingClassifier()\n",
        "\n",
        "# Train the Gradient Boosting classifier\n",
        "gbc.fit(X_train, y_train)\n",
        "\n",
        "# Predict the target values for the test set\n",
        "y_pred = gbc.predict(X_test)\n",
        "\n",
        "# Calculate the accuracy of the classifier\n",
        "accuracy = accuracy_score(y_test, y_pred) * 100\n",
        "print('Accuracy:', accuracy, '%')\n"
      ]
    },
    {
      "cell_type": "code",
      "source": [
        "from google.colab import drive\n",
        "drive.mount('/content/drive')"
      ],
      "metadata": {
        "colab": {
          "base_uri": "https://localhost:8080/"
        },
        "id": "HaJl5NLoFwsc",
        "outputId": "a44235e5-64f1-49c3-f5a2-5cfeac067c1e"
      },
      "execution_count": null,
      "outputs": [
        {
          "output_type": "stream",
          "name": "stdout",
          "text": [
            "Mounted at /content/drive\n"
          ]
        }
      ]
    }
  ]
}