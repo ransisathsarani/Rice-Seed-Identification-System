{
  "nbformat": 4,
  "nbformat_minor": 0,
  "metadata": {
    "colab": {
      "provenance": [],
      "authorship_tag": "ABX9TyMNh7ZxbNLEKkB1+8UfubI6",
      "include_colab_link": true
    },
    "kernelspec": {
      "name": "python3",
      "display_name": "Python 3"
    },
    "language_info": {
      "name": "python"
    }
  },
  "cells": [
    {
      "cell_type": "markdown",
      "metadata": {
        "id": "view-in-github",
        "colab_type": "text"
      },
      "source": [
        "<a href=\"https://colab.research.google.com/github/sathsaranir1996/Rice-Seed-Identification-System/blob/main/svm_classifier.ipynb\" target=\"_parent\"><img src=\"https://colab.research.google.com/assets/colab-badge.svg\" alt=\"Open In Colab\"/></a>"
      ]
    },
    {
      "cell_type": "code",
      "execution_count": null,
      "metadata": {
        "id": "2_SGr800VdwG"
      },
      "outputs": [],
      "source": [
        "# Support Vector Machines (SVM)\n",
        "\n",
        "import pandas as pd\n",
        "from sklearn.svm import SVC\n",
        "from sklearn.impute import SimpleImputer\n",
        "from sklearn.metrics import accuracy_score\n",
        "from sklearn.model_selection import train_test_split\n",
        "\n",
        "# Load the CSV file\n",
        "data = pd.read_csv('/content/drive/MyDrive/training_data/training_seed_data_dikwee.csv')\n",
        "\n",
        "# Convert non-numeric columns to numeric\n",
        "data['Color'] = pd.to_numeric(data['Color'], errors='coerce')\n",
        "data['Shape'] = pd.to_numeric(data['Shape'], errors='coerce')\n",
        "\n",
        "# Check data types of each column\n",
        "print(data.dtypes, '\\n')\n",
        "\n",
        "# Replace 0 values with the mean value of the feature\n",
        "imputer = SimpleImputer(missing_values=0, strategy='mean')\n",
        "data[['Length', 'Width', 'Area', 'Perimeter']] = imputer.fit_transform(data[['Length', 'Width', 'Area', 'Perimeter']])\n",
        "\n",
        "# Split the data into features (X) and target (y)\n",
        "X = data[['Length', 'Width', 'Area', 'Perimeter']]\n",
        "y = data['Class']\n",
        "\n",
        "# Split the data into training and testing sets\n",
        "X_train, X_test, y_train, y_test = train_test_split(X, y, test_size=0.2, random_state=42)\n",
        "\n",
        "# Initialize an SVM classifier with a linear kernel\n",
        "svm = SVC(kernel='linear')\n",
        "\n",
        "# Train the SVM classifier\n",
        "svm.fit(X_train, y_train)\n",
        "\n",
        "# Predict the target values for the test set\n",
        "y_pred = svm.predict(X_test)\n",
        "\n",
        "# Calculate the accuracy of the classifier\n",
        "accuracy = accuracy_score(y_test, y_pred) * 100\n",
        "print('Accuracy:', accuracy, '%')\n"
      ]
    }
  ]
}