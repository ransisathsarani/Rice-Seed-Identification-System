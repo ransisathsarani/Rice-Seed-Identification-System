{
  "nbformat": 4,
  "nbformat_minor": 0,
  "metadata": {
    "colab": {
      "provenance": [],
      "authorship_tag": "ABX9TyN2QBp8BcDdZauPqP55Fqgs",
      "include_colab_link": true
    },
    "kernelspec": {
      "name": "python3",
      "display_name": "Python 3"
    },
    "language_info": {
      "name": "python"
    }
  },
  "cells": [
    {
      "cell_type": "markdown",
      "metadata": {
        "id": "view-in-github",
        "colab_type": "text"
      },
      "source": [
        "<a href=\"https://colab.research.google.com/github/sathsaranir1996/Rice-Seed-Identification-System/blob/main/svm_v1.ipynb\" target=\"_parent\"><img src=\"https://colab.research.google.com/assets/colab-badge.svg\" alt=\"Open In Colab\"/></a>"
      ]
    },
    {
      "cell_type": "markdown",
      "source": [
        "kernel : rbf,\n",
        "regularization parameter C: 10,\n",
        "gamma parameter: 0.01\n",
        "\n",
        "\n",
        "\n"
      ],
      "metadata": {
        "id": "bVkRMP2sWyr_"
      }
    },
    {
      "cell_type": "code",
      "source": [
        "import pandas as pd\n",
        "from sklearn.svm import SVC\n",
        "from sklearn.impute import SimpleImputer\n",
        "from sklearn.metrics import accuracy_score\n",
        "from sklearn.model_selection import train_test_split\n",
        "\n",
        "# Load the CSV file\n",
        "data = pd.read_csv('/content/drive/MyDrive/training_data/seed_data_dikwee.csv')\n",
        "\n",
        "# Check data types of each column\n",
        "print(data.dtypes, '\\n')\n",
        "\n",
        "# Replace 0 values with the mean value of the feature\n",
        "imputer = SimpleImputer(missing_values=0, strategy='mean')\n",
        "data[['length', 'width', 'area', 'perimeter', 'numeric_hex_code', 'hue', 'saturation', 'value', 'number_of_vertices']] = imputer.fit_transform(data[['length', 'width', 'area', 'perimeter', 'numeric_hex_code', 'hue', 'saturation', 'value', 'number_of_vertices']])\n",
        "\n",
        "# Split the data into features (X) and target (y)\n",
        "X = data[['length', 'width', 'area', 'perimeter', 'numeric_hex_code', 'hue', 'saturation', 'value', 'number_of_vertices']]\n",
        "y = data['class']\n",
        "\n",
        "# Split the data into training and testing sets\n",
        "X_train, X_test, y_train, y_test = train_test_split(X, y, test_size=0.2, random_state=42)\n",
        "\n",
        "# Initialize an SVM classifier with a radial basis function (RBF) kernel\n",
        "svm = SVC(kernel='rbf', C=10, gamma=0.01)\n",
        "\n",
        "# Train the SVM classifier\n",
        "svm.fit(X_train, y_train)\n",
        "\n",
        "# Predict the target values for the test set\n",
        "y_pred = svm.predict(X_test)\n",
        "\n",
        "# Calculate the accuracy of the classifier\n",
        "accuracy = accuracy_score(y_test, y_pred) * 100\n",
        "print('Accuracy:', accuracy, '%')\n"
      ],
      "metadata": {
        "id": "Nwk2fBIwW3Gt"
      },
      "execution_count": null,
      "outputs": []
    },
    {
      "cell_type": "markdown",
      "source": [
        "\n",
        "\n",
        "- Added a StandardScaler to scale the features to have zero mean and unit variance. \n",
        "\n",
        "kernel : rbf,\n",
        "regularization parameter C: 10,\n",
        "gamma parameter: 0.1\n",
        "\n",
        "\n",
        "\n",
        "\n"
      ],
      "metadata": {
        "id": "DcKh25fFaMzl"
      }
    },
    {
      "cell_type": "code",
      "source": [
        "import pandas as pd\n",
        "from sklearn.svm import SVC\n",
        "from sklearn.impute import SimpleImputer\n",
        "from sklearn.metrics import accuracy_score\n",
        "from sklearn.model_selection import train_test_split\n",
        "from sklearn.preprocessing import StandardScaler\n",
        "\n",
        "# Load the CSV file\n",
        "data = pd.read_csv('/content/drive/MyDrive/training_data/seed_data_dikwee.csv')\n",
        "\n",
        "# Check data types of each column\n",
        "print(data.dtypes, '\\n')\n",
        "\n",
        "# Replace 0 values with the mean value of the feature\n",
        "imputer = SimpleImputer(missing_values=0, strategy='mean')\n",
        "data[['length', 'width', 'area', 'perimeter', 'numeric_hex_code', 'hue', 'saturation', 'value', 'number_of_vertices']] = imputer.fit_transform(data[['length', 'width', 'area', 'perimeter', 'numeric_hex_code', 'hue', 'saturation', 'value', 'number_of_vertices']])\n",
        "\n",
        "# Split the data into features (X) and target (y)\n",
        "X = data[['length', 'width', 'area', 'perimeter', 'numeric_hex_code', 'hue', 'saturation', 'value', 'number_of_vertices']]\n",
        "y = data['class']\n",
        "\n",
        "# Split the data into training and testing sets\n",
        "X_train, X_test, y_train, y_test = train_test_split(X, y, test_size=0.2, random_state=42)\n",
        "\n",
        "# Scale the features to have zero mean and unit variance\n",
        "scaler = StandardScaler()\n",
        "X_train = scaler.fit_transform(X_train)\n",
        "X_test = scaler.transform(X_test)\n",
        "\n",
        "# Initialize an SVM classifier with an RBF kernel and adjusted hyperparameters\n",
        "svm = SVC(kernel='rbf', C=10, gamma=0.1)\n",
        "\n",
        "# Train the SVM classifier\n",
        "svm.fit(X_train, y_train)\n",
        "\n",
        "# Predict the target values for the test set\n",
        "y_pred = svm.predict(X_test)\n",
        "\n",
        "# Calculate the accuracy of the classifier\n",
        "accuracy = accuracy_score(y_test, y_pred) * 100\n",
        "print('Accuracy:', accuracy, '%')"
      ],
      "metadata": {
        "colab": {
          "base_uri": "https://localhost:8080/"
        },
        "id": "5goRk7-uZx4Y",
        "outputId": "feef1971-88ed-400c-f025-5357f17bb396"
      },
      "execution_count": 23,
      "outputs": [
        {
          "output_type": "stream",
          "name": "stdout",
          "text": [
            "length                float64\n",
            "width                 float64\n",
            "area                  float64\n",
            "perimeter             float64\n",
            "rgb_color              object\n",
            "hex_code               object\n",
            "numeric_hex_code        int64\n",
            "hue                   float64\n",
            "saturation            float64\n",
            "value                 float64\n",
            "shape                  object\n",
            "number_of_vertices      int64\n",
            "class                  object\n",
            "dtype: object \n",
            "\n",
            "Accuracy: 90.95330739299611 %\n"
          ]
        }
      ]
    },
    {
      "cell_type": "code",
      "source": [
        "from google.colab import drive\n",
        "drive.mount('/content/drive')"
      ],
      "metadata": {
        "colab": {
          "base_uri": "https://localhost:8080/"
        },
        "id": "G2mIaukCXFbf",
        "outputId": "de308eda-6bc3-463a-a0f2-d3396a09cfc5"
      },
      "execution_count": 1,
      "outputs": [
        {
          "output_type": "stream",
          "name": "stdout",
          "text": [
            "Mounted at /content/drive\n"
          ]
        }
      ]
    }
  ]
}