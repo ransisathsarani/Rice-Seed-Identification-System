{
  "nbformat": 4,
  "nbformat_minor": 0,
  "metadata": {
    "colab": {
      "provenance": [],
      "mount_file_id": "1hKd0bGae33lJ7C6Vin41uTp9ogfqcvv2",
      "authorship_tag": "ABX9TyMHeYmSvXkdHe9mUrUzrMQX",
      "include_colab_link": true
    },
    "kernelspec": {
      "name": "python3",
      "display_name": "Python 3"
    },
    "language_info": {
      "name": "python"
    }
  },
  "cells": [
    {
      "cell_type": "markdown",
      "metadata": {
        "id": "view-in-github",
        "colab_type": "text"
      },
      "source": [
        "<a href=\"https://colab.research.google.com/github/sathsaranir1996/Rice-Seed-Identification-System/blob/main/random_forest_v1.ipynb\" target=\"_parent\"><img src=\"https://colab.research.google.com/assets/colab-badge.svg\" alt=\"Open In Colab\"/></a>"
      ]
    },
    {
      "cell_type": "markdown",
      "source": [
        "we have modified the following hyperparameters of the Random Forest classifier:\n",
        "* **n_estimators** (The number of trees in the forest): **100**\n",
        "* **max_depth** (The maximum depth of each decision tree): **10**\n",
        "* **min_samples_split** (The minimum number of samples required to split an internal node): **2**"
      ],
      "metadata": {
        "id": "I3j7OkpNPQd4"
      }
    },
    {
      "cell_type": "code",
      "source": [
        "import pandas as pd\n",
        "from sklearn.impute import SimpleImputer\n",
        "from sklearn.metrics import accuracy_score\n",
        "from sklearn.ensemble import RandomForestClassifier\n",
        "from sklearn.model_selection import train_test_split\n",
        "\n",
        "# Load the CSV file\n",
        "data = pd.read_csv('/content/drive/MyDrive/training_data/seed_data_rathel.csv')\n",
        "\n",
        "# Check data types of each column\n",
        "print(data.dtypes, '\\n')\n",
        "\n",
        "# Replace 0 values with the mean value of the feature\n",
        "imputer = SimpleImputer(missing_values=0, strategy='mean')\n",
        "data[['length', 'width', 'area', 'perimeter', 'numeric_hex_code', 'hue', 'saturation', 'value', 'number_of_vertices']] = imputer.fit_transform(data[['length', 'width', 'area', 'perimeter', 'numeric_hex_code', 'hue', 'saturation', 'value', 'number_of_vertices']])\n",
        "\n",
        "# Split the data into features (X) and target (y)\n",
        "X = data[['length', 'width', 'area', 'perimeter', 'numeric_hex_code', 'hue', 'saturation', 'value', 'number_of_vertices']]\n",
        "y = data['class']\n",
        "\n",
        "# Split the data into training and testing sets\n",
        "X_train, X_test, y_train, y_test = train_test_split(X, y, test_size=0.2, random_state=42)\n",
        "\n",
        "# Initialize a Random Forest classifier with modified hyperparameters\n",
        "rfc = RandomForestClassifier(n_estimators=100, max_depth=10, min_samples_split=2, random_state=42)\n",
        "\n",
        "# Train the Random Forest classifier\n",
        "rfc.fit(X_train, y_train)\n",
        "\n",
        "# Predict the target values for the test set\n",
        "y_pred = rfc.predict(X_test)\n",
        "\n",
        "# Calculate the accuracy of the classifier\n",
        "accuracy = accuracy_score(y_test, y_pred) * 100\n",
        "print('Accuracy:', accuracy, '%')\n"
      ],
      "metadata": {
        "id": "1vPM8rDxPkTw"
      },
      "execution_count": null,
      "outputs": []
    },
    {
      "cell_type": "markdown",
      "source": [
        "we have modified the following hyperparameters of the Random Forest classifier:\n",
        "* **n_estimators** (The number of trees in the forest): **50**\n",
        "* **max_depth** (The maximum depth of each decision tree): **5**\n",
        "* **min_samples_split** (The minimum number of samples required to split an internal node): **10**"
      ],
      "metadata": {
        "id": "Up7-xZgvTn3x"
      }
    },
    {
      "cell_type": "code",
      "source": [
        "import pandas as pd\n",
        "from sklearn.impute import SimpleImputer\n",
        "from sklearn.metrics import accuracy_score\n",
        "from sklearn.ensemble import RandomForestClassifier\n",
        "from sklearn.model_selection import train_test_split\n",
        "\n",
        "# Load the CSV file\n",
        "data = pd.read_csv('/content/drive/MyDrive/training_data/seed_data_rathel.csv')\n",
        "\n",
        "# Check data types of each column\n",
        "print(data.dtypes, '\\n')\n",
        "\n",
        "# Replace 0 values with the mean value of the feature\n",
        "imputer = SimpleImputer(missing_values=0, strategy='mean')\n",
        "data[['length', 'width', 'area', 'perimeter', 'numeric_hex_code', 'hue', 'saturation', 'value', 'number_of_vertices']] = imputer.fit_transform(data[['length', 'width', 'area', 'perimeter', 'numeric_hex_code', 'hue', 'saturation', 'value', 'number_of_vertices']])\n",
        "\n",
        "# Split the data into features (X) and target (y)\n",
        "X = data[['length', 'width', 'area', 'perimeter', 'numeric_hex_code', 'hue', 'saturation', 'value', 'number_of_vertices']]\n",
        "y = data['class']\n",
        "\n",
        "# Split the data into training and testing sets\n",
        "X_train, X_test, y_train, y_test = train_test_split(X, y, test_size=0.2, random_state=42)\n",
        "\n",
        "# Initialize a Random Forest classifier with modified hyperparameters\n",
        "rfc = RandomForestClassifier(n_estimators=50, max_depth=5, min_samples_split=10, random_state=42)\n",
        "\n",
        "# Train the Random Forest classifier\n",
        "rfc.fit(X_train, y_train)\n",
        "\n",
        "# Predict the target values for the test set\n",
        "y_pred = rfc.predict(X_test)\n",
        "\n",
        "# Calculate the accuracy of the classifier\n",
        "accuracy = accuracy_score(y_test, y_pred) * 100\n",
        "print('Accuracy:', accuracy, '%')\n"
      ],
      "metadata": {
        "id": "xra3VjoZTvDH"
      },
      "execution_count": null,
      "outputs": []
    },
    {
      "cell_type": "markdown",
      "source": [
        "we have modified the following hyperparameters of the Random Forest classifier:\n",
        "* **n_estimators** (The number of trees in the forest): **150**\n",
        "* **max_depth** (The maximum depth of each decision tree): **15**\n",
        "* **min_samples_split** (The minimum number of samples required to split an internal node): **2**\n",
        "*  **min_samples_leaf** (The minimum number of samples required to be at a leaf node): **2**\n",
        "\n"
      ],
      "metadata": {
        "id": "e6SOPNnYUkpw"
      }
    },
    {
      "cell_type": "code",
      "source": [
        "import pandas as pd\n",
        "from sklearn.impute import SimpleImputer\n",
        "from sklearn.metrics import accuracy_score\n",
        "from sklearn.ensemble import RandomForestClassifier\n",
        "from sklearn.model_selection import train_test_split\n",
        "\n",
        "# Load the CSV file\n",
        "data = pd.read_csv('/content/drive/MyDrive/training_data/seed_data_rathel.csv')\n",
        "\n",
        "# Check data types of each column\n",
        "print(data.dtypes, '\\n')\n",
        "\n",
        "# Replace 0 values with the mean value of the feature\n",
        "imputer = SimpleImputer(missing_values=0, strategy='mean')\n",
        "data[['length', 'width', 'area', 'perimeter', 'numeric_hex_code', 'hue', 'saturation', 'value', 'number_of_vertices']] = imputer.fit_transform(data[['length', 'width', 'area', 'perimeter', 'numeric_hex_code', 'hue', 'saturation', 'value', 'number_of_vertices']])\n",
        "\n",
        "# Split the data into features (X) and target (y)\n",
        "X = data[['length', 'width', 'area', 'perimeter', 'numeric_hex_code', 'hue', 'saturation', 'value', 'number_of_vertices']]\n",
        "y = data['class']\n",
        "\n",
        "# Split the data into training and testing sets\n",
        "X_train, X_test, y_train, y_test = train_test_split(X, y, test_size=0.2, random_state=42)\n",
        "\n",
        "# Initialize a Random Forest classifier with modified hyperparameters\n",
        "rfc = RandomForestClassifier(n_estimators=150, max_depth=15, min_samples_split=2, min_samples_leaf=2, random_state=42)\n",
        "\n",
        "# Train the Random Forest classifier\n",
        "rfc.fit(X_train, y_train)\n",
        "\n",
        "# Predict the target values for the test set\n",
        "y_pred = rfc.predict(X_test)\n",
        "\n",
        "# Calculate the accuracy of the classifier\n",
        "accuracy = accuracy_score(y_test, y_pred) * 100\n",
        "print('Accuracy:', accuracy, '%')\n"
      ],
      "metadata": {
        "id": "ugmRJBDpUlGr"
      },
      "execution_count": null,
      "outputs": []
    }
  ]
}